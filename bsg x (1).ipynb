{
 "cells": [
  {
   "cell_type": "code",
   "execution_count": 9,
   "id": "ad22bfa4-62dc-407b-9bd9-2828ebcabb52",
   "metadata": {},
   "outputs": [
    {
     "name": "stdout",
     "output_type": "stream",
     "text": [
      "Churn Accuracy: 0.892539356605065\n",
      "Revenue MSE: 241277.6374614789\n"
     ]
    }
   ],
   "source": [
    "from sklearn.model_selection import train_test_split\n",
    "from sklearn.ensemble import RandomForestClassifier\n",
    "from sklearn.linear_model import LinearRegression\n",
    "from sklearn.metrics import accuracy_score, mean_squared_error\n",
    "import pandas as pd\n",
    "\n",
    "# Feature Selection\n",
    "client_data = pd.read_csv('data_for_predictions.csv')\n",
    "X = client_data[['cons_12m', 'forecast_cons_12m', 'margin_gross_pow_ele', 'pow_max']]\n",
    "y_churn = client_data['churn']\n",
    "y_revenue = client_data['net_margin']\n",
    "\n",
    "# Train/Test Split\n",
    "X_train, X_test, y_train, y_test = train_test_split(X, y_churn, test_size=0.2, random_state=42)\n",
    "\n",
    "# Churn Prediction\n",
    "churn_model = RandomForestClassifier()\n",
    "churn_model.fit(X_train, y_train)\n",
    "y_pred = churn_model.predict(X_test)\n",
    "\n",
    "print(\"Churn Accuracy:\", accuracy_score(y_test, y_pred))\n",
    "\n",
    "# Revenue Forecasting\n",
    "X_train_rev, X_test_rev, y_train_rev, y_test_rev = train_test_split(X, y_revenue, test_size=0.2, random_state=42)\n",
    "revenue_model = LinearRegression()\n",
    "revenue_model.fit(X_train_rev, y_train_rev)\n",
    "y_pred_rev = revenue_model.predict(X_test_rev)\n",
    "\n",
    "print(\"Revenue MSE:\", mean_squared_error(y_test_rev, y_pred_rev))\n"
   ]
  },
  {
   "cell_type": "code",
   "execution_count": null,
   "id": "ed9bf9e3-f84c-4d6f-8ff2-c1a8541eb052",
   "metadata": {},
   "outputs": [],
   "source": []
  }
 ],
 "metadata": {
  "kernelspec": {
   "display_name": "Python 3 (ipykernel)",
   "language": "python",
   "name": "python3"
  },
  "language_info": {
   "codemirror_mode": {
    "name": "ipython",
    "version": 3
   },
   "file_extension": ".py",
   "mimetype": "text/x-python",
   "name": "python",
   "nbconvert_exporter": "python",
   "pygments_lexer": "ipython3",
   "version": "3.12.4"
  }
 },
 "nbformat": 4,
 "nbformat_minor": 5
}
